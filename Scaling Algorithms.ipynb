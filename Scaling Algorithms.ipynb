{
 "cells": [
  {
   "cell_type": "code",
   "execution_count": null,
   "id": "83a189ec",
   "metadata": {},
   "outputs": [],
   "source": [
    "import pandas as pd"
   ]
  },
  {
   "cell_type": "code",
   "execution_count": null,
   "id": "78e1a989",
   "metadata": {},
   "outputs": [],
   "source": [
    "cd = pd.read_csv('supershops.csv')"
   ]
  },
  {
   "cell_type": "code",
   "execution_count": null,
   "id": "f1e124f4",
   "metadata": {},
   "outputs": [],
   "source": [
    "cd.head()"
   ]
  },
  {
   "cell_type": "markdown",
   "id": "e90eba79",
   "metadata": {},
   "source": [
    "# normalization"
   ]
  },
  {
   "cell_type": "code",
   "execution_count": null,
   "id": "c7719438",
   "metadata": {},
   "outputs": [],
   "source": [
    "from sklearn.preprocessing import MinMaxScaler  "
   ]
  },
  {
   "cell_type": "code",
   "execution_count": null,
   "id": "37f0eefc",
   "metadata": {},
   "outputs": [],
   "source": [
    "m = MinMaxScaler()"
   ]
  },
  {
   "cell_type": "code",
   "execution_count": null,
   "id": "484d7c48",
   "metadata": {},
   "outputs": [],
   "source": [
    "cd_mar = m.fit (cd[['Marketing Spend']])"
   ]
  },
  {
   "cell_type": "code",
   "execution_count": null,
   "id": "44d7df7e",
   "metadata": {},
   "outputs": [],
   "source": [
    "cd.head()"
   ]
  },
  {
   "cell_type": "code",
   "execution_count": null,
   "id": "155273d9",
   "metadata": {},
   "outputs": [],
   "source": [
    "cd[['Marketing Spend']] = m.transform(cd[['Marketing Spend']])"
   ]
  },
  {
   "cell_type": "code",
   "execution_count": null,
   "id": "9ef48aaa",
   "metadata": {},
   "outputs": [],
   "source": [
    "cd.head()"
   ]
  },
  {
   "cell_type": "markdown",
   "id": "19477529",
   "metadata": {},
   "source": [
    "# fit & transform"
   ]
  },
  {
   "cell_type": "code",
   "execution_count": null,
   "id": "b7425faa",
   "metadata": {},
   "outputs": [],
   "source": [
    "cd[['Administration']] = m.fit_transform(cd[['Administration']])   #fit & transform"
   ]
  },
  {
   "cell_type": "code",
   "execution_count": null,
   "id": "9ecade3e",
   "metadata": {},
   "outputs": [],
   "source": [
    "cd.head()"
   ]
  },
  {
   "cell_type": "code",
   "execution_count": null,
   "id": "31bcf064",
   "metadata": {},
   "outputs": [],
   "source": [
    "x = cd.drop('Profit', axis=1)\n",
    "y = cd[['Profit']]"
   ]
  },
  {
   "cell_type": "code",
   "execution_count": null,
   "id": "f86b8183",
   "metadata": {},
   "outputs": [],
   "source": [
    "x.head()"
   ]
  },
  {
   "cell_type": "code",
   "execution_count": null,
   "id": "88948dae",
   "metadata": {},
   "outputs": [],
   "source": [
    "x1 = x.copy()\n",
    "x2 = x.copy()\n",
    "x3 = x.copy()\n",
    "x4 = x.copy())"
   ]
  },
  {
   "cell_type": "markdown",
   "id": "7e67470b",
   "metadata": {},
   "source": [
    "# MinMaxScaler using for loop"
   ]
  },
  {
   "cell_type": "code",
   "execution_count": null,
   "id": "e5ef4bb9",
   "metadata": {},
   "outputs": [],
   "source": [
    "for z in x.columns:                                            \n",
    "    if pd.api.types.is_numeric_dtype(x[z]):               \n",
    "        x[z] = m.fit_transform(x[[z]])\n",
    "        continue"
   ]
  },
  {
   "cell_type": "code",
   "execution_count": null,
   "id": "da4df961",
   "metadata": {},
   "outputs": [],
   "source": [
    "print(x.head())"
   ]
  },
  {
   "cell_type": "markdown",
   "id": "9991b022",
   "metadata": {},
   "source": [
    "# Standard Scaler"
   ]
  },
  {
   "cell_type": "code",
   "execution_count": null,
   "id": "ff3ad9f2",
   "metadata": {},
   "outputs": [],
   "source": [
    "from sklearn.preprocessing import StandardScaler"
   ]
  },
  {
   "cell_type": "code",
   "execution_count": null,
   "id": "bd214d01",
   "metadata": {},
   "outputs": [],
   "source": [
    "s = StandardScaler()"
   ]
  },
  {
   "cell_type": "code",
   "execution_count": null,
   "id": "303487e3",
   "metadata": {},
   "outputs": [],
   "source": [
    "cd[['Marketing Spend']] = s.fit_transform(cd[['Marketing Spend']]) "
   ]
  },
  {
   "cell_type": "code",
   "execution_count": null,
   "id": "df4dde9d",
   "metadata": {},
   "outputs": [],
   "source": [
    "cd.head()"
   ]
  },
  {
   "cell_type": "markdown",
   "id": "f8b1b410",
   "metadata": {},
   "source": [
    "# using for loop"
   ]
  },
  {
   "cell_type": "code",
   "execution_count": null,
   "id": "9eff3cb6",
   "metadata": {},
   "outputs": [],
   "source": [
    "for z in x2.columns:                                            \n",
    "    if pd.api.types.is_numeric_dtype(x2[z]):               \n",
    "        x2[z] = m.fit_transform(x2[[z]])\n",
    "        continue"
   ]
  },
  {
   "cell_type": "code",
   "execution_count": null,
   "id": "a14a5cd2",
   "metadata": {},
   "outputs": [],
   "source": [
    "print(x2.head())"
   ]
  },
  {
   "cell_type": "markdown",
   "id": "692236b6",
   "metadata": {},
   "source": [
    "# MaxAbsScaler"
   ]
  },
  {
   "cell_type": "code",
   "execution_count": null,
   "id": "7bd38688",
   "metadata": {},
   "outputs": [],
   "source": [
    "from sklearn.preprocessing import MaxAbsScaler\n",
    "mas = MaxAbsScaler()"
   ]
  },
  {
   "cell_type": "code",
   "execution_count": null,
   "id": "5fb2f433",
   "metadata": {},
   "outputs": [],
   "source": [
    "cd[['Marketing Spend']] = mas.fit_transform(cd[['Marketing Spend']])"
   ]
  },
  {
   "cell_type": "code",
   "execution_count": null,
   "id": "1f1d7ca4",
   "metadata": {},
   "outputs": [],
   "source": [
    "cd.head()"
   ]
  },
  {
   "cell_type": "markdown",
   "id": "b53df6a1",
   "metadata": {},
   "source": [
    "# using for loop"
   ]
  },
  {
   "cell_type": "code",
   "execution_count": null,
   "id": "4ec3612d",
   "metadata": {},
   "outputs": [],
   "source": [
    "x3.head()"
   ]
  },
  {
   "cell_type": "code",
   "execution_count": null,
   "id": "478f6ec9",
   "metadata": {},
   "outputs": [],
   "source": [
    "for z in x3.columns:\n",
    "    if pd.api.types.is_numeric_dtype(x3[z]):\n",
    "        x3[z] = s.fit_transform(x3[[z]])\n",
    "        continue"
   ]
  },
  {
   "cell_type": "code",
   "execution_count": null,
   "id": "6f467cd8",
   "metadata": {},
   "outputs": [],
   "source": [
    "print(x3.head())"
   ]
  },
  {
   "cell_type": "markdown",
   "id": "59c57178",
   "metadata": {},
   "source": [
    "# Robust Scaler"
   ]
  },
  {
   "cell_type": "code",
   "execution_count": null,
   "id": "55c20264",
   "metadata": {},
   "outputs": [],
   "source": [
    "from sklearn.preprocessing import RobustScaler\n",
    "rs =  RobustScaler()"
   ]
  },
  {
   "cell_type": "code",
   "execution_count": null,
   "id": "310c858a",
   "metadata": {},
   "outputs": [],
   "source": [
    "cd[['Transport']] = rs.fit_transform(cd[['Transport']])"
   ]
  },
  {
   "cell_type": "code",
   "execution_count": null,
   "id": "19c39746",
   "metadata": {},
   "outputs": [],
   "source": [
    "cd.head()"
   ]
  },
  {
   "cell_type": "markdown",
   "id": "620fdf8e",
   "metadata": {},
   "source": [
    "# Using For Loop"
   ]
  },
  {
   "cell_type": "code",
   "execution_count": null,
   "id": "ebd56f8c",
   "metadata": {},
   "outputs": [],
   "source": [
    "x4.head()"
   ]
  },
  {
   "cell_type": "code",
   "execution_count": null,
   "id": "20d39ca8",
   "metadata": {},
   "outputs": [],
   "source": [
    "for z in x4.columns:\n",
    "    if pd.api.types.is_numeric_dtype(x4[z]):\n",
    "        x4[z] = rs.fit_transform(x4[[z]])\n",
    "        continue"
   ]
  },
  {
   "cell_type": "code",
   "execution_count": null,
   "id": "712544d9",
   "metadata": {},
   "outputs": [],
   "source": [
    "print(x4.head())"
   ]
  },
  {
   "cell_type": "code",
   "execution_count": null,
   "id": "2e266d25",
   "metadata": {},
   "outputs": [],
   "source": []
  }
 ],
 "metadata": {
  "kernelspec": {
   "display_name": "Python 3 (ipykernel)",
   "language": "python",
   "name": "python3"
  },
  "language_info": {
   "codemirror_mode": {
    "name": "ipython",
    "version": 3
   },
   "file_extension": ".py",
   "mimetype": "text/x-python",
   "name": "python",
   "nbconvert_exporter": "python",
   "pygments_lexer": "ipython3",
   "version": "3.9.13"
  }
 },
 "nbformat": 4,
 "nbformat_minor": 5
}
